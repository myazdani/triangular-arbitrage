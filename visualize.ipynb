{
 "cells": [
  {
   "cell_type": "code",
   "execution_count": null,
   "id": "d4d39686",
   "metadata": {},
   "outputs": [],
   "source": [
    "import json"
   ]
  },
  {
   "cell_type": "code",
   "execution_count": null,
   "id": "722f0943",
   "metadata": {},
   "outputs": [],
   "source": [
    "from utils.visualize_utils import parse_raw_steps, build_edges, draw_graph, draw_sankey, draw_bar"
   ]
  },
  {
   "cell_type": "code",
   "execution_count": null,
   "id": "f49e1820",
   "metadata": {},
   "outputs": [],
   "source": [
    "def load_from_file(path):\n",
    "    with open(path, 'r') as f:\n",
    "        raw = f.read()\n",
    "    if not raw.strip():\n",
    "        raise ValueError(f\"No JSON data in {path!r}\")\n",
    "    return json.loads(raw)   # use loads on the string\n",
    "\n",
    "def load_from_string(raw_str):\n",
    "    if not raw_str.strip():\n",
    "        raise ValueError(\"No JSON data in provided string\")\n",
    "    return json.loads(raw_str)"
   ]
  },
  {
   "cell_type": "code",
   "execution_count": null,
   "id": "8a8b79ec",
   "metadata": {},
   "outputs": [],
   "source": [
    "raw_steps = load_from_file(\"parsed.json\")"
   ]
  },
  {
   "cell_type": "code",
   "execution_count": null,
   "id": "43dc04e8",
   "metadata": {},
   "outputs": [],
   "source": [
    "len(raw_steps)"
   ]
  },
  {
   "cell_type": "code",
   "execution_count": null,
   "id": "c545511d",
   "metadata": {},
   "outputs": [],
   "source": [
    "edges = build_edges(raw_steps[0]['steps'])"
   ]
  },
  {
   "cell_type": "code",
   "execution_count": null,
   "id": "0dd371a9",
   "metadata": {},
   "outputs": [],
   "source": [
    "edges = build_edges(raw_steps[0]['steps'])\n",
    "draw_graph(edges)"
   ]
  },
  {
   "cell_type": "code",
   "execution_count": null,
   "id": "42a985db",
   "metadata": {},
   "outputs": [],
   "source": [
    "import numpy as np"
   ]
  },
  {
   "cell_type": "code",
   "execution_count": null,
   "id": "76ee7487",
   "metadata": {},
   "outputs": [],
   "source": [
    "results = []\n",
    "for _ in range(1000):\n",
    "    dummy_edges = [0.46, 1.40056, 0.738, 2.92654]\n",
    "    res = 1\n",
    "    for e in dummy_edges:\n",
    "        if np.random.uniform(0.,1.0) > 0.5:\n",
    "            res *= e\n",
    "        else:\n",
    "            res *= e*np.random.uniform(0.8,1.0)\n",
    "    results.append(res)"
   ]
  },
  {
   "cell_type": "code",
   "execution_count": null,
   "id": "89127523",
   "metadata": {},
   "outputs": [],
   "source": [
    "#plt.hist(results)"
   ]
  },
  {
   "cell_type": "code",
   "execution_count": null,
   "id": "5a7a3a60",
   "metadata": {},
   "outputs": [],
   "source": [
    "res = 1\n",
    "for e in edges:\n",
    "    if np.random.uniform(0.,1.0) > 0.5:\n",
    "        res *= e[-1]\n",
    "    else:\n",
    "        res *= e[-1]*np.random.uniform(0.85,1.0)\n",
    "print(res)"
   ]
  },
  {
   "cell_type": "code",
   "execution_count": null,
   "id": "4378be04",
   "metadata": {},
   "outputs": [],
   "source": []
  },
  {
   "cell_type": "code",
   "execution_count": null,
   "id": "78f1c718",
   "metadata": {},
   "outputs": [],
   "source": [
    "def make_path(path, node, graph):\n",
    "    if len(path) == 0:\n",
    "        return make_path([node, graph[node]], graph[node], graph)\n",
    "    if path[0] == node:\n",
    "        return path\n",
    "    elif path[-1] == node:\n",
    "        path.append(graph[node])\n",
    "    return make_path(path, graph[node], graph)"
   ]
  },
  {
   "cell_type": "code",
   "execution_count": null,
   "id": "d1e9542a",
   "metadata": {},
   "outputs": [],
   "source": [
    "paths = []\n",
    "opportunities = {}\n",
    "for i in range(len(raw_steps)):\n",
    "    edges = build_edges(raw_steps[i]['steps'])\n",
    "    sorted_edges = sorted(edges, key = lambda x: x[0])\n",
    "    graph = {e[0]: e[1] for e in sorted_edges}\n",
    "    paths.append(make_path([], sorted_edges[0][0], graph))\n",
    "    opportunity = \"→\".join(paths[-1])\n",
    "    if opportunity not in opportunities:    \n",
    "        opportunities[opportunity] = [raw_steps[i]['return_pct']]\n",
    "    else:\n",
    "        opportunities[opportunity].append(raw_steps[i]['return_pct'])\n"
   ]
  },
  {
   "cell_type": "code",
   "execution_count": null,
   "id": "55ad1424",
   "metadata": {},
   "outputs": [],
   "source": [
    "raw_steps[i]['steps']"
   ]
  },
  {
   "cell_type": "code",
   "execution_count": null,
   "id": "ce723033",
   "metadata": {},
   "outputs": [],
   "source": [
    "edges"
   ]
  },
  {
   "cell_type": "code",
   "execution_count": null,
   "id": "de481046",
   "metadata": {},
   "outputs": [],
   "source": [
    "opportunities"
   ]
  },
  {
   "cell_type": "code",
   "execution_count": null,
   "id": "3150a80a",
   "metadata": {},
   "outputs": [],
   "source": [
    "sorted([len(op.split(\"→\")) for op in opportunities.keys()])"
   ]
  },
  {
   "cell_type": "code",
   "execution_count": null,
   "id": "99a63ce4",
   "metadata": {},
   "outputs": [],
   "source": [
    "sorted([sum(item)/len(item) for item in opportunities.values()])"
   ]
  },
  {
   "cell_type": "code",
   "execution_count": null,
   "id": "d69d9fe7",
   "metadata": {},
   "outputs": [],
   "source": [
    "import matplotlib.pyplot as plt"
   ]
  },
  {
   "cell_type": "code",
   "execution_count": null,
   "id": "f3222ed1",
   "metadata": {},
   "outputs": [],
   "source": [
    "plt.hist([item  for items in opportunities.values() for item in items], bins=30);"
   ]
  },
  {
   "cell_type": "code",
   "execution_count": null,
   "id": "1fd7e4ed",
   "metadata": {},
   "outputs": [],
   "source": []
  },
  {
   "cell_type": "code",
   "execution_count": null,
   "id": "0acfb1ea",
   "metadata": {},
   "outputs": [],
   "source": []
  }
 ],
 "metadata": {
  "kernelspec": {
   "display_name": "crypto-arbitrage",
   "language": "python",
   "name": "python3"
  },
  "language_info": {
   "codemirror_mode": {
    "name": "ipython",
    "version": 3
   },
   "file_extension": ".py",
   "mimetype": "text/x-python",
   "name": "python",
   "nbconvert_exporter": "python",
   "pygments_lexer": "ipython3",
   "version": "3.13.5"
  }
 },
 "nbformat": 4,
 "nbformat_minor": 5
}
